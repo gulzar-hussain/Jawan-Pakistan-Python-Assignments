{
 "cells": [
  {
   "cell_type": "code",
   "execution_count": 3,
   "metadata": {},
   "outputs": [
    {
     "name": "stdout",
     "output_type": "stream",
     "text": [
      "\n",
      "Twinkle, twinkle, little star,\n",
      "         How I wonder what you are!\n",
      "                 Up above the world so high,\n",
      "                 Like a diamond in the sky.\n",
      "Twinkle, twinkle, little star,\n",
      "         How I wonder what you are\n"
     ]
    }
   ],
   "source": [
    "# Question1:\n",
    "#Write a Python program to print the following string in a specific format (see the output).\n",
    "# Twinkle, twinkle, little star,\n",
    "           # How I wonder what you are!\n",
    "                    # Up above the world so high,\n",
    "                    # Like a diamond in the sky.\n",
    "# Twinkle, twinkle, little star,\n",
    "          # How I wonder what you are \n",
    "print(f'''\n",
    "Twinkle, twinkle, little star,\n",
    "         How I wonder what you are!\n",
    "                 Up above the world so high,\n",
    "                 Like a diamond in the sky.\n",
    "Twinkle, twinkle, little star,\n",
    "         How I wonder what you are''')"
   ]
  },
  {
   "cell_type": "code",
   "execution_count": 7,
   "metadata": {},
   "outputs": [
    {
     "name": "stdout",
     "output_type": "stream",
     "text": [
      "Python 3.8.3\n"
     ]
    }
   ],
   "source": [
    "#Question2\n",
    "#Write a Python program to get the Python version you are using\n",
    "!python --version"
   ]
  },
  {
   "cell_type": "code",
   "execution_count": 33,
   "metadata": {},
   "outputs": [
    {
     "name": "stdout",
     "output_type": "stream",
     "text": [
      "Current date: 2021-10-22 \n",
      " Current time: 15:19:45.999646\n"
     ]
    }
   ],
   "source": [
    "#Question3\n",
    "#Write a Python program to display the current date and time.\n",
    "import datetime\n",
    "datetime = str(datetime.datetime.now())\n",
    "# date = datetime[0:10]\n",
    "# time = datetime[11:]\n",
    "\n",
    "print(\"Current date: {} \\n Current time: {}\".format(datetime[:10],datetime[11:]))"
   ]
  },
  {
   "cell_type": "code",
   "execution_count": 42,
   "metadata": {},
   "outputs": [
    {
     "name": "stdout",
     "output_type": "stream",
     "text": [
      "Radius: 7\n",
      "Area of the circle is:  153.938\n"
     ]
    }
   ],
   "source": [
    "#Question4\n",
    "#Write a Python program which accepts the radius of a circle from the user and compute the area.\n",
    "import math\n",
    "radius = int(input(\"Radius: \"))\n",
    "area = math.pi*(radius)**2\n",
    "print(\"Area of the circle is: \",round(area, 3))"
   ]
  },
  {
   "cell_type": "code",
   "execution_count": 47,
   "metadata": {},
   "outputs": [
    {
     "name": "stdout",
     "output_type": "stream",
     "text": [
      "enter your first name: gul\n",
      "enter your last name: zar\n",
      "zar gul\n"
     ]
    }
   ],
   "source": [
    "#Question5\n",
    "#Write a Python program which accepts the user's first and last name and print them in reverse order with a space between them.\n",
    "fname = input(\"enter your first name: \")\n",
    "lname = input(\"enter your last name: \")\n",
    "\n",
    "print(lname,fname)"
   ]
  },
  {
   "cell_type": "code",
   "execution_count": 48,
   "metadata": {},
   "outputs": [
    {
     "name": "stdout",
     "output_type": "stream",
     "text": [
      "enter a number: 2\n",
      "enter a number: 2\n",
      "Addition: 4\n"
     ]
    }
   ],
   "source": [
    "#Question6\n",
    "#Write a python program which takes two inputs from user and print them addition\n",
    "num1 = int(input('enter a number: '))\n",
    "num2 = int(input('enter a number: '))\n",
    "print(\"Addition:\",num1+num2)"
   ]
  },
  {
   "cell_type": "code",
   "execution_count": 75,
   "metadata": {},
   "outputs": [
    {
     "name": "stdout",
     "output_type": "stream",
     "text": [
      "Mathematics: 66\n",
      "Physics: 99\n",
      "Chemistry: 88\n",
      "English: 99\n",
      "Urdu: 89\n",
      "\n",
      "---------------------------------------------------------\n",
      "                Student Mark Sheet\n",
      "Subject             Obt Marks      Total Marks\n",
      "Mathematics          66             100\n",
      "Physics              99             100\n",
      "Chemistry            88             100\n",
      "English              99             100\n",
      "Urdu                 89             100\n",
      "\n",
      "                  Total Obtianed Marks 441/500 \n",
      "----------------------------------------------------------\n",
      "\n",
      "\n"
     ]
    }
   ],
   "source": [
    "#Question7\n",
    "#Write a program which takes 5 inputs from user for different subject’s marks, total it and generate mark sheet using grades ?\n",
    "#Assumption: Total marks of each subject is 100.\n",
    "subjects = [\"Mathematics\", \"Physics\", \"Chemistry\", \"English\", \"Urdu\"]\n",
    "#input loop\n",
    "obtM = []\n",
    "for sub in subjects:\n",
    "    obtMarks = int(input(sub+\": \"))\n",
    "    obtM.append(obtMarks)\n",
    "print(f'''\n",
    "---------------------------------------------------------\n",
    "                Student Mark Sheet\n",
    "Subject             Obt Marks      Total Marks\n",
    "{subjects[0]}          {obtM[0]}             100\n",
    "{subjects[1]}              {obtM[1]}             100\n",
    "{subjects[2]}            {obtM[2]}             100\n",
    "{subjects[3]}              {obtM[3]}             100\n",
    "{subjects[4]}                 {obtM[4]}             100\n",
    "\n",
    "                  Total Obtianed Marks {sum(obtM)}/500 \n",
    "----------------------------------------------------------\n",
    "\n",
    "''' )  \n",
    "    "
   ]
  },
  {
   "cell_type": "code",
   "execution_count": 78,
   "metadata": {},
   "outputs": [
    {
     "name": "stdout",
     "output_type": "stream",
     "text": [
      "enter a number: 4\n",
      "4 is even\n"
     ]
    }
   ],
   "source": [
    "#Question8\n",
    "#Write a program which take input from user and identify that the given number is even or odd?\n",
    "num = int(input(\"enter a number: \"))\n",
    "if num%2 == 0: print(\"{} is even\".format(num))\n",
    "else: print(\"{} is odd\".format(num))"
   ]
  },
  {
   "cell_type": "code",
   "execution_count": 90,
   "metadata": {},
   "outputs": [
    {
     "name": "stdout",
     "output_type": "stream",
     "text": [
      "The length of the list is 5\n",
      "Alternate Program\n",
      "The length of the list is 5\n"
     ]
    }
   ],
   "source": [
    "#Question9\n",
    "#Write a program which print the length of the list?\n",
    "#let the list is [1, 2, 3, 4, 5]\n",
    "lst = [1, 2, 3, 4, 5]\n",
    "print('The length of the list is', len(lst))\n",
    "          #Alternate\n",
    "print(\"Alternate Program\")\n",
    "length = 0\n",
    "for i in lst: length+=1\n",
    "print('The length of the list is',length)\n"
   ]
  },
  {
   "cell_type": "code",
   "execution_count": 91,
   "metadata": {},
   "outputs": [
    {
     "name": "stdout",
     "output_type": "stream",
     "text": [
      "sum of numeric list is 15\n",
      "Alternate Program\n",
      "sum of numeric list is 15\n"
     ]
    }
   ],
   "source": [
    "#Question10\n",
    "#Write a Python program to sum all the numeric items in a list?\n",
    "#let the list is [1, 2, 3, 4, 5]\n",
    "lst = [1, 2, 3, 4, 5]\n",
    "print('sum of numeric list is',sum(lst))\n",
    "        #Alternate\n",
    "print(\"Alternate Program\")\n",
    "totalSum = 0\n",
    "for i in lst: totalSum+=i\n",
    "print('sum of numeric list is',totalSum)"
   ]
  },
  {
   "cell_type": "code",
   "execution_count": 92,
   "metadata": {},
   "outputs": [
    {
     "name": "stdout",
     "output_type": "stream",
     "text": [
      "The Largest number of the numeric list is 5\n",
      "Alternate Program\n",
      "The Largest number of the numeric list is 5\n"
     ]
    }
   ],
   "source": [
    "#Question11\n",
    "#Write a Python program to get the largest number from a numeric list.\n",
    "#let the list is [1, 2, 3, 4, 5]\n",
    "lst = [1, 2, 3, 4, 5]\n",
    "print('The Largest number of the numeric list is',max(lst))\n",
    "\n",
    "        #Alternate\n",
    "print(\"Alternate Program\")\n",
    "largestNum = float('-inf')\n",
    "for i in lst:\n",
    "    if i > largestNum: largestNum = i\n",
    "print('The Largest number of the numeric list is',largestNum)\n"
   ]
  },
  {
   "cell_type": "code",
   "execution_count": 95,
   "metadata": {},
   "outputs": [
    {
     "name": "stdout",
     "output_type": "stream",
     "text": [
      "1\n",
      "1\n",
      "2\n",
      "3\n"
     ]
    }
   ],
   "source": [
    "#Question12\n",
    "#Take a list, say for example this one:\n",
    "# a = [1, 1, 2, 3, 5, 8, 13, 21, 34, 55, 89]\n",
    "# Write a program that prints out all the elements of the list that are less than 5.\n",
    "a = [1, 1, 2, 3, 5, 8, 13, 21, 34, 55, 89]\n",
    "for i in a:\n",
    "    if i < 5: print(i)"
   ]
  },
  {
   "cell_type": "code",
   "execution_count": null,
   "metadata": {},
   "outputs": [],
   "source": []
  }
 ],
 "metadata": {
  "kernelspec": {
   "display_name": "Python 3",
   "language": "python",
   "name": "python3"
  },
  "language_info": {
   "codemirror_mode": {
    "name": "ipython",
    "version": 3
   },
   "file_extension": ".py",
   "mimetype": "text/x-python",
   "name": "python",
   "nbconvert_exporter": "python",
   "pygments_lexer": "ipython3",
   "version": "3.8.3"
  }
 },
 "nbformat": 4,
 "nbformat_minor": 4
}
